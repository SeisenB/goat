{
 "cells": [
  {
   "cell_type": "code",
   "execution_count": 2,
   "metadata": {},
   "outputs": [],
   "source": [
    "import geopandas\n",
    "import geopy\n",
    "from geopy.geocoders import Nominatim\n",
    "import openpyxl\n",
    "import csv\n",
    "import os"
   ]
  },
  {
   "cell_type": "code",
   "execution_count": 3,
   "metadata": {},
   "outputs": [],
   "source": [
    "#Zum Ordner\n",
    "os.chdir(r'C:\\Users\\sebas\\Documents\\Privat\\Uni\\Umweltingenieurwesen\\Masterarbeit\\data\\pois')\n"
   ]
  },
  {
   "cell_type": "code",
   "execution_count": 61,
   "metadata": {},
   "outputs": [
    {
     "data": {
      "text/plain": [
       "'48.1460464'"
      ]
     },
     "execution_count": 61,
     "metadata": {},
     "output_type": "execute_result"
    }
   ],
   "source": [
    "sheet['A2'].value\n",
    "street = str(sheet['B'+str(2)].value)\n",
    "zipcode = str(sheet['C'+str(2)].value)\n",
    "location = locator.geocode(\"\"+street+\",\"+zipcode+\", München, Deutschland\")\n",
    "y = location[1][0]\n",
    "str(y)"
   ]
  },
  {
   "cell_type": "code",
   "execution_count": 44,
   "metadata": {},
   "outputs": [
    {
     "data": {
      "text/plain": [
       "352"
      ]
     },
     "execution_count": 44,
     "metadata": {},
     "output_type": "execute_result"
    }
   ],
   "source": [
    "sheet.max_row+1"
   ]
  },
  {
   "cell_type": "code",
   "execution_count": 6,
   "metadata": {},
   "outputs": [],
   "source": [
    "locator = Nominatim(user_agent=\"myGeocoder\")\n",
    "file = openpyxl.load_workbook('muc_womandoctors.xlsx')\n",
    "sheet = file['Tabelle1']\n",
    "outputFile = open('muc_womandoctors_coordinates.csv','w',newline='')\n",
    "outputWriter = csv.writer(outputFile)\n",
    "outputWriter.writerow(['Arztart','Fachgebiet','Name', 'Straße', 'Postleitzahl', 'Ort', 'Lat', 'Long'])\n",
    "for k in range(2, sheet.max_row+1):\n",
    "    street = str(sheet['D'+str(k)].value)\n",
    "    zipcode = str(sheet['E'+str(k)].value)\n",
    "    if zipcode is None:\n",
    "        location = locator.geocode(\"\"+street+\", München, Deutschland\")\n",
    "    else:\n",
    "        location = locator.geocode(\"\"+street+\",\"+zipcode+\", München, Deutschland\")\n",
    "    try:\n",
    "        outputWriter.writerow([str(sheet['A'+str(k)].value),str(sheet['B'+str(k)].value),str(sheet['C'+str(k)].value),str(street),str(zipcode),str(\"München\"),str(location[1][0]),str(location[1][1])])\n",
    "    except TypeError:\n",
    "        print(\"TypeError: Check list of indices\")\n",
    "        outputWriter.writerow([str(sheet['A'+str(k)].value),str(sheet['B'+str(k)].value),str(sheet['C'+str(k)].value),str(street),str(zipcode),str(\"München\"),str(\"0\"),str(\"0\")])\n",
    "\n",
    "outputFile.close()"
   ]
  },
  {
   "cell_type": "code",
   "execution_count": null,
   "metadata": {},
   "outputs": [],
   "source": [
    "for k in range (2, sheet.max_row+1):\n",
    "    street = str(sheet['B'+str(k)].value)\n",
    "    zipcode = str(sheet['C'+str(k)].value)\n",
    "    location = locator.geocode(\"\"+street+\",\"+zipcode+\", München, Deutschland\")\n",
    "    location\n",
    "    #location[1][0]\n",
    "    #y = location[1][0]\n",
    "    #x = location[1][1]\n",
    "    #outputWriter.writerow([str(sheet['A'+str(k)].value),str(street),str(zipcode),str(\"München\"),str(y),str(x)])\n"
   ]
  },
  {
   "cell_type": "code",
   "execution_count": null,
   "metadata": {},
   "outputs": [],
   "source": []
  }
 ],
 "metadata": {
  "kernelspec": {
   "display_name": "Python 3",
   "language": "python",
   "name": "python3"
  },
  "language_info": {
   "codemirror_mode": {
    "name": "ipython",
    "version": 3
   },
   "file_extension": ".py",
   "mimetype": "text/x-python",
   "name": "python",
   "nbconvert_exporter": "python",
   "pygments_lexer": "ipython3",
   "version": "3.7.3"
  }
 },
 "nbformat": 4,
 "nbformat_minor": 2
}

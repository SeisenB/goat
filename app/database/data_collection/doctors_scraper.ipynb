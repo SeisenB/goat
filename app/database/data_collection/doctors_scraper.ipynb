{
 "cells": [
  {
   "cell_type": "code",
   "execution_count": 1,
   "metadata": {},
   "outputs": [
    {
     "name": "stdout",
     "output_type": "stream",
     "text": [
      "import of modules successful\n"
     ]
    }
   ],
   "source": [
    "from bs4 import BeautifulSoup\n",
    "import pandas \n",
    "from selenium import webdriver\n",
    "import openpyxl\n",
    "import csv\n",
    "import os\n",
    "import re\n",
    "\n",
    "print('import of modules successful')\n",
    "os.chdir(r'C:\\Users\\sebas\\Documents\\Privat\\Uni\\Umweltingenieurwesen\\Masterarbeit\\data\\pois')"
   ]
  },
  {
   "cell_type": "code",
   "execution_count": 2,
   "metadata": {},
   "outputs": [
    {
     "data": {
      "text/plain": [
       "<selenium.webdriver.firefox.webdriver.WebDriver (session=\"203050ad-2120-44de-a2ad-4dba3a4ab74c\")>"
      ]
     },
     "execution_count": 2,
     "metadata": {},
     "output_type": "execute_result"
    }
   ],
   "source": [
    "driver = webdriver.Firefox(executable_path=r'C:\\Users\\sebas\\Documents\\Privat\\Uni\\Umweltingenieurwesen\\Masterarbeit\\WebScraping\\geckodriver.exe')\n",
    "driver"
   ]
  },
  {
   "cell_type": "code",
   "execution_count": 5,
   "metadata": {},
   "outputs": [],
   "source": [
    "file = openpyxl.load_workbook('centroids_viertel.xlsx')\n",
    "sheet = file['Tabelle1']\n",
    "outputFile = open('gynaecologist_scrapped.csv','w',newline='')\n",
    "outputWriter = csv.writer(outputFile)\n",
    "outputWriter.writerow(['Arztart','Fachgebiet', 'Name', 'Straße', 'Ort','lat','long'])\n",
    "for i in range (276, sheet.max_row+1):\n",
    "    lat = str(sheet['J'+str(i)].value)\n",
    "    long = str(sheet['I'+str(i)].value)\n",
    "    for k in range (1, 11):\n",
    "        driver.get(r'https://dienste.kvb.de/arztsuche/app/suchergebnisse.htm?hashwert=1881ea10e1f6662986803549ecc411c&lat='+str(lat)+'&lng='+str(long)+'&page='+str(k)+'&zeigeKarte=true')\n",
    "        content = driver.page_source\n",
    "        soup = BeautifulSoup(content)\n",
    "        name = soup.find_all(class_=\"titel_name_zelle\")\n",
    "        fachgebiet = soup.find_all(class_=\"fachgebiet_zelle\")\n",
    "        arztart = soup.find_all(class_=\"arztart_zelle\")\n",
    "        address = soup.find_all(class_=\"adresse_tabelle\")\n",
    "        for x in range(0,len(name)):\n",
    "            arztart2 = arztart[x].contents[0]\n",
    "            arztart2 = ' '.join(arztart2.split())\n",
    "            fachgebiet2 = fachgebiet[x].contents[0]\n",
    "            fachgebiet2 = ' '.join(fachgebiet2.split())\n",
    "            name2 = name[x].contents[1].contents[0]    \n",
    "            street = address[x].contents[3].contents[2].contents[1].contents[0]\n",
    "            city = address[x].contents[3].contents[4].contents[1].contents[0]\n",
    "            street2 =' '.join(street.split()) \n",
    "            city2 = ' '.join(city.split())\n",
    "            outputWriter.writerow([arztart2,fachgebiet2,name2,street2,city2,lat,long])\n",
    "            \n",
    "outputFile.close()"
   ]
  },
  {
   "cell_type": "code",
   "execution_count": null,
   "metadata": {},
   "outputs": [],
   "source": [
    "file = openpyxl.load_workbook('centroids_viertel.xlsx')\n",
    "sheet = file['Tabelle1']\n",
    "outputFile = open('gynaecologist_scrapped.csv','w',newline='')\n",
    "outputWriter = csv.writer(outputFile)\n",
    "outputWriter.writerow(['Arztart','Fachgebiet', 'Name', 'Straße', 'Ort'])\n",
    "for i in range (1, sheet.max_row+1):\n",
    "    lat = str(sheet['J'+str(i)].value)\n",
    "    long = str(sheet['I'+str(i)].value)\n",
    "    for k in range (1, 11):\n",
    "        driver.get(r'https://dienste.kvb.de/arztsuche/app/suchergebnisse.htm?hashwert=1881ea10e1f6662986803549ecc411c&lat='+str(lat)+'&lng='+str(long)+'&page='+str(i)+'&zeigeKarte=true')\n",
    "        content = driver.page_source\n",
    "        soup = BeautifulSoup(content)\n",
    "        name = soup.find_all(class_=\"titel_name_zelle\")\n",
    "        fachgebiet = soup.find_all(class_=\"fachgebiet_zelle\")\n",
    "        arztart = soup.find_all(class_=\"arztart_zelle\")\n",
    "        address = soup.find_all(class_=\"adresse_tabelle\")\n",
    "        for x in range(0,len(name)):\n",
    "            arztart2 = arztart[x].contents[0]\n",
    "            arztart2 = ' '.join(arztart2.split())\n",
    "            fachgebiet2 = fachgebiet[x].contents[0]\n",
    "            fachgebiet2 = ' '.join(fachgebiet2.split())\n",
    "            name2 = name[x].contents[1].contents    \n",
    "            street = address[x].contents[3].contents[2].contents[1].contents[0]\n",
    "            city = address[x].contents[3].contents[4].contents[1].contents[0]\n",
    "            street2 =' '.join(street.split()) \n",
    "            city2 = ' '.join(city.split())\n",
    "            outputWriter.writerow([arztart2,fachgebiet2,name2,street2,city2])\n",
    "            \n",
    "ouputFile.close()"
   ]
  },
  {
   "cell_type": "code",
   "execution_count": 6,
   "metadata": {},
   "outputs": [],
   "source": [
    "outputFile.close()"
   ]
  }
 ],
 "metadata": {
  "kernelspec": {
   "display_name": "Python 3",
   "language": "python",
   "name": "python3"
  },
  "language_info": {
   "codemirror_mode": {
    "name": "ipython",
    "version": 3
   },
   "file_extension": ".py",
   "mimetype": "text/x-python",
   "name": "python",
   "nbconvert_exporter": "python",
   "pygments_lexer": "ipython3",
   "version": "3.8.8"
  }
 },
 "nbformat": 4,
 "nbformat_minor": 2
}

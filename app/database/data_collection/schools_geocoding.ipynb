{
 "cells": [
  {
   "cell_type": "code",
   "execution_count": 1,
   "metadata": {},
   "outputs": [],
   "source": [
    "import geopandas\n",
    "import geopy\n",
    "from geopy.geocoders import Nominatim\n",
    "import openpyxl\n",
    "import csv\n",
    "import os"
   ]
  },
  {
   "cell_type": "code",
   "execution_count": 2,
   "metadata": {},
   "outputs": [],
   "source": [
    "#Zum Ordner\n",
    "os.chdir(r'C:\\Users\\sebas\\Documents\\Privat\\Uni\\Umweltingenieurwesen\\Masterarbeit\\data\\pois')\n"
   ]
  },
  {
   "cell_type": "code",
   "execution_count": 61,
   "metadata": {},
   "outputs": [
    {
     "data": {
      "text/plain": [
       "'48.1460464'"
      ]
     },
     "execution_count": 61,
     "metadata": {},
     "output_type": "execute_result"
    }
   ],
   "source": [
    "sheet['A2'].value\n",
    "street = str(sheet['B'+str(2)].value)\n",
    "zipcode = str(sheet['C'+str(2)].value)\n",
    "location = locator.geocode(\"\"+street+\",\"+zipcode+\", München, Deutschland\")\n",
    "y = location[1][0]\n",
    "str(y)"
   ]
  },
  {
   "cell_type": "code",
   "execution_count": 44,
   "metadata": {},
   "outputs": [
    {
     "data": {
      "text/plain": [
       "352"
      ]
     },
     "execution_count": 44,
     "metadata": {},
     "output_type": "execute_result"
    }
   ],
   "source": [
    "sheet.max_row+1"
   ]
  },
  {
   "cell_type": "code",
   "execution_count": 8,
   "metadata": {
    "scrolled": true
   },
   "outputs": [
    {
     "name": "stdout",
     "output_type": "stream",
     "text": [
      "TypeError: Check list of indices\n"
     ]
    }
   ],
   "source": [
    "locator = Nominatim(user_agent=\"myGeocoder\")\n",
    "file = openpyxl.load_workbook('schulsuche_export_schulen_zusammengefasst.xlsx')\n",
    "sheet = file['Tabelle1']\n",
    "outputFile = open('schulen_muenchen_coordinates.csv','w',newline='')\n",
    "outputWriter = csv.writer(outputFile)\n",
    "outputWriter.writerow(['Schulnummer','Schulart', 'Name', 'Straße', 'Postleitzahl', 'Ort', 'Lat', 'Long'])\n",
    "for k in range(2, sheet.max_row+1):\n",
    "    street = str(sheet['D'+str(k)].value)\n",
    "    zipcode = str(sheet['E'+str(k)].value)\n",
    "    location = locator.geocode(\"\"+street+\",\"+zipcode+\", München, Deutschland\")\n",
    "    try:\n",
    "        outputWriter.writerow([str(sheet['A'+str(k)].value),str(sheet['B'+str(k)].value),str(sheet['C'+str(k)].value),str(street),str(zipcode),str(\"München\"),str(location[1][0]),str(location[1][1])])\n",
    "    except TypeError:\n",
    "        print(\"TypeError: Check list of indices\")\n",
    "        outputWriter.writerow([str(sheet['A'+str(k)].value),str(street),str(zipcode),str(\"München\"),str(\"0\"),str(\"0\")])\n",
    "\n",
    "outputFile.close()"
   ]
  },
  {
   "cell_type": "code",
   "execution_count": 7,
   "metadata": {},
   "outputs": [],
   "source": [
    "outputFile.close()"
   ]
  },
  {
   "cell_type": "code",
   "execution_count": null,
   "metadata": {},
   "outputs": [],
   "source": [
    "for k in range (2, sheet.max_row+1):\n",
    "    street = str(sheet['B'+str(k)].value)\n",
    "    zipcode = str(sheet['C'+str(k)].value)\n",
    "    location = locator.geocode(\"\"+street+\",\"+zipcode+\", München, Deutschland\")\n",
    "    location\n",
    "    #location[1][0]\n",
    "    #y = location[1][0]\n",
    "    #x = location[1][1]\n",
    "    #outputWriter.writerow([str(sheet['A'+str(k)].value),str(street),str(zipcode),str(\"München\"),str(y),str(x)])\n"
   ]
  },
  {
   "cell_type": "code",
   "execution_count": null,
   "metadata": {},
   "outputs": [],
   "source": []
  }
 ],
 "metadata": {
  "kernelspec": {
   "display_name": "Python 3",
   "language": "python",
   "name": "python3"
  },
  "language_info": {
   "codemirror_mode": {
    "name": "ipython",
    "version": 3
   },
   "file_extension": ".py",
   "mimetype": "text/x-python",
   "name": "python",
   "nbconvert_exporter": "python",
   "pygments_lexer": "ipython3",
   "version": "3.8.8"
  }
 },
 "nbformat": 4,
 "nbformat_minor": 2
}

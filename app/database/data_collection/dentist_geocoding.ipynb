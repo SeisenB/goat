{
 "cells": [
  {
   "cell_type": "code",
   "execution_count": 1,
   "metadata": {},
   "outputs": [],
   "source": [
    "import geopandas\n",
    "import geopy\n",
    "from geopy.geocoders import Nominatim\n",
    "import openpyxl\n",
    "import csv\n",
    "import os"
   ]
  },
  {
   "cell_type": "code",
   "execution_count": 2,
   "metadata": {},
   "outputs": [],
   "source": [
    "#Zum Ordner\n",
    "os.chdir(r'C:\\Users\\sebas\\Documents\\Privat\\Uni\\Umweltingenieurwesen\\Masterarbeit\\data\\pois')\n"
   ]
  },
  {
   "cell_type": "code",
   "execution_count": 8,
   "metadata": {},
   "outputs": [
    {
     "name": "stdout",
     "output_type": "stream",
     "text": [
      "Alpenstraße / kurz vor ZugspitzstraßeTypeError: Check list of indices\n",
      "Bajuwarenstraße RoßmannTypeError: Check list of indices\n",
      "Chiemgaustraße / Langbürgenerstraße ggü. Burger KingTypeError: Check list of indices\n",
      "Dachauer Straße Höhe 360/513 TypeError: Check list of indices\n",
      "Fürstenrieder Straße / ValpichlerstraßeTypeError: Check list of indices\n",
      "Gerner Straße ggü. 42TypeError: Check list of indices\n",
      "Hauptbahnhof ZwischengeschossTypeError: Check list of indices\n",
      "HerkommerplatzTypeError: Check list of indices\n",
      "Mutter-Teresa-Straße / Georg Kerschensteiner StraßeTypeError: Check list of indices\n",
      "Nietzschestraße / SchopenhauerstraßeTypeError: Check list of indices\n",
      "Rabistraße / FranziskanerstraßeTypeError: Check list of indices\n",
      "Sonnenstraße ggü. ISAR Klinikum TypeError: Check list of indices\n",
      "Waltherstraße nähe HäberlstraßeTypeError: Check list of indices\n"
     ]
    }
   ],
   "source": [
    "locator = Nominatim(user_agent=\"myGeocoder\")\n",
    "file = openpyxl.load_workbook('Recherche Blatt.xlsx')\n",
    "sheet = file['Tabelle1']\n",
    "outputFile = open('Recherche Blatt.csv','w',newline='')\n",
    "outputWriter = csv.writer(outputFile)\n",
    "outputWriter.writerow(['Amenity','Name', 'Straße','Bemerkung', 'Recherche', 'Lat', 'Long'])\n",
    "for k in range(2, sheet.max_row+1):\n",
    "    street = str(sheet['C'+str(k)].value)\n",
    "    location = locator.geocode(\"\"+street+\", München, Deutschland\")\n",
    "    try:\n",
    "        outputWriter.writerow([str(sheet['A'+str(k)].value),str(sheet['B'+str(k)].value),str(street),str(sheet['D'+str(k)].value),str(sheet['E'+str(k)].value),str(location[1][0]),str(location[1][1])])\n",
    "    except TypeError:\n",
    "        print(street+\"TypeError: Check list of indices\")\n",
    "        outputWriter.writerow([str(sheet['A'+str(k)].value),str(sheet['B'+str(k)].value),str(street),str(sheet['D'+str(k)].value),str(sheet['E'+str(k)].value),str(\"0\"),str(\"0\")])\n",
    "    except UnicodeEncodeError: \n",
    "        print(street+\"Fehler\")\n",
    "        outputWriter.writerow([str(sheet['A'+str(k)].value),str(sheet['B'+str(k)].value),str(street),str(sheet['D'+str(k)].value),str(sheet['E'+str(k)].value),str(\"0\"),str(\"0\")])\n",
    "\n",
    "outputFile.close()"
   ]
  },
  {
   "cell_type": "code",
   "execution_count": null,
   "metadata": {},
   "outputs": [],
   "source": [
    "for k in range (2, sheet.max_row+1):\n",
    "    street = str(sheet['B'+str(k)].value)\n",
    "    zipcode = str(sheet['C'+str(k)].value)\n",
    "    location = locator.geocode(\"\"+street+\",\"+zipcode+\", München, Deutschland\")\n",
    "    location\n",
    "    #location[1][0]\n",
    "    #y = location[1][0]\n",
    "    #x = location[1][1]\n",
    "    #outputWriter.writerow([str(sheet['A'+str(k)].value),str(street),str(zipcode),str(\"München\"),str(y),str(x)])\n"
   ]
  },
  {
   "cell_type": "code",
   "execution_count": 7,
   "metadata": {},
   "outputs": [
    {
     "ename": "NameError",
     "evalue": "name 'outputFIle' is not defined",
     "output_type": "error",
     "traceback": [
      "\u001b[1;31m---------------------------------------------------------------------------\u001b[0m",
      "\u001b[1;31mNameError\u001b[0m                                 Traceback (most recent call last)",
      "\u001b[1;32m<ipython-input-7-7ed54ffca4dc>\u001b[0m in \u001b[0;36m<module>\u001b[1;34m\u001b[0m\n\u001b[1;32m----> 1\u001b[1;33m \u001b[0moutputFIle\u001b[0m\u001b[1;33m.\u001b[0m\u001b[0mclose\u001b[0m\u001b[1;33m(\u001b[0m\u001b[1;33m)\u001b[0m\u001b[1;33m\u001b[0m\u001b[1;33m\u001b[0m\u001b[0m\n\u001b[0m",
      "\u001b[1;31mNameError\u001b[0m: name 'outputFIle' is not defined"
     ]
    }
   ],
   "source": [
    "outputFIle.close()"
   ]
  }
 ],
 "metadata": {
  "kernelspec": {
   "display_name": "Python 3",
   "language": "python",
   "name": "python3"
  },
  "language_info": {
   "codemirror_mode": {
    "name": "ipython",
    "version": 3
   },
   "file_extension": ".py",
   "mimetype": "text/x-python",
   "name": "python",
   "nbconvert_exporter": "python",
   "pygments_lexer": "ipython3",
   "version": "3.7.3"
  }
 },
 "nbformat": 4,
 "nbformat_minor": 2
}
